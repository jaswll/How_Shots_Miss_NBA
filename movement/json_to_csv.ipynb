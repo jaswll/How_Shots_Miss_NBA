{
 "cells": [
  {
   "cell_type": "code",
   "execution_count": 6,
   "metadata": {},
   "outputs": [
    {
     "name": "stdout",
     "output_type": "stream",
     "text": [
      "Finished Game ID: 0021500514\n",
      "Finished Game ID: 0021500515\n",
      "Finished Game ID: 0021500516\n",
      "Finished Game ID: 0021500517\n",
      "Finished Game ID: 0021500518\n",
      "Finished Game ID: 0021500519\n",
      "Finished Game ID: 0021500520\n",
      "\n",
      "\n",
      "Finished all dataframes: 7 games counted\n"
     ]
    }
   ],
   "source": [
    "import pandas, os, sys, json\n",
    "import movement.config as CONFIG\n",
    "\n",
    "data_path = CONFIG.data.dir\n",
    "csv_path = CONFIG.data.movement.dir\n",
    "files = os.listdir(data_path)\n",
    "\n",
    "if not os.path.exists(csv_path):\n",
    "    os.makedirs(csv_path)\n",
    "\n",
    "count = 0\n",
    "movement_headers = [\"team_id\", \"player_id\", \"x_loc\", \"y_loc\", \"radius\", \"game_clock\", \"shot_clock\", \"quarter\", \"game_id\",\n",
    "                    \"event_id\"]\n",
    "for file in files:\n",
    "    if '.json' not in file:\n",
    "        continue\n",
    "    try:\n",
    "        count = count + 1\n",
    "        file_data = open('%s/%s' % (data_path, file))\n",
    "        game_id = file.replace('.json', '')\n",
    "        data = json.load(file_data)\n",
    "        events = data['events']\n",
    "        moments = []\n",
    "\n",
    "        for event in events:\n",
    "            event_id = event['eventId']\n",
    "            movement_data = event['moments']\n",
    "            for moment in movement_data:\n",
    "                for player in moment[5]:\n",
    "                    if player[0] == -1:\n",
    "                        player.extend((moment[2], moment[3], moment[0], game_id, event_id))\n",
    "                        moments.append(player)\n",
    "\n",
    "        # movement frame is complete for game\n",
    "        movement = pandas.DataFrame(moments, columns=movement_headers)\n",
    "        movement.to_csv('%s/%s.csv' % (csv_path, game_id), index=False, compression='gzip')\n",
    "        # movement.to_json('./data/json/' + game_id + '.json', orient='records')\n",
    "\n",
    "        print ('Finished Game ID: ' + game_id)\n",
    "    except Exception as e:\n",
    "        print ('Error in loading: ' + str(file) + ' file, Error: ' + str(e))\n",
    "\n",
    "print ('\\n')\n",
    "print ('Finished all dataframes: ' + str(count) + ' games counted')\n"
   ]
  },
  {
   "cell_type": "code",
   "execution_count": null,
   "metadata": {},
   "outputs": [],
   "source": []
  }
 ],
 "metadata": {
  "kernelspec": {
   "display_name": "Python 3",
   "language": "python",
   "name": "python3"
  },
  "language_info": {
   "codemirror_mode": {
    "name": "ipython",
    "version": 3
   },
   "file_extension": ".py",
   "mimetype": "text/x-python",
   "name": "python",
   "nbconvert_exporter": "python",
   "pygments_lexer": "ipython3",
   "version": "3.6.6"
  }
 },
 "nbformat": 4,
 "nbformat_minor": 2
}
